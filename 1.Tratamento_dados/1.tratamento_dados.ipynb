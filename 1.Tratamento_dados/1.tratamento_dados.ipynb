{
 "cells": [
  {
   "cell_type": "code",
   "execution_count": 2,
   "id": "997cfab6",
   "metadata": {},
   "outputs": [],
   "source": [
    "import numpy as np\n",
    "import pandas as pd\n",
    "import matplotlib.pyplot as plt\n",
    "import seaborn as sns"
   ]
  },
  {
   "cell_type": "code",
   "execution_count": 25,
   "id": "b192ef49",
   "metadata": {},
   "outputs": [],
   "source": [
    "#pasta = \n",
    "holidays_events = pd.read_csv(r'c:\\Users\\Thyana De Lara\\Documents\\TCC\\modelo_vendas_forecasting\\Bases\\holidays_events.csv')\n",
    "train = pd.read_csv(r'c:\\Users\\Thyana De Lara\\Documents\\TCC\\modelo_vendas_forecasting\\Bases\\train.csv')\n",
    "stores = pd.read_csv(r'C:\\Users\\Thyana De Lara\\Documents\\TCC\\modelo_vendas_forecasting\\Bases\\stores.csv')"
   ]
  },
  {
   "cell_type": "markdown",
   "id": "b2ca8568",
   "metadata": {},
   "source": [
    "# Informações Basicas"
   ]
  },
  {
   "cell_type": "code",
   "execution_count": 26,
   "id": "c486790b",
   "metadata": {},
   "outputs": [
    {
     "data": {
      "text/html": [
       "<div>\n",
       "<style scoped>\n",
       "    .dataframe tbody tr th:only-of-type {\n",
       "        vertical-align: middle;\n",
       "    }\n",
       "\n",
       "    .dataframe tbody tr th {\n",
       "        vertical-align: top;\n",
       "    }\n",
       "\n",
       "    .dataframe thead th {\n",
       "        text-align: right;\n",
       "    }\n",
       "</style>\n",
       "<table border=\"1\" class=\"dataframe\">\n",
       "  <thead>\n",
       "    <tr style=\"text-align: right;\">\n",
       "      <th></th>\n",
       "      <th>id</th>\n",
       "      <th>date</th>\n",
       "      <th>store_nbr</th>\n",
       "      <th>family</th>\n",
       "      <th>sales</th>\n",
       "      <th>onpromotion</th>\n",
       "    </tr>\n",
       "  </thead>\n",
       "  <tbody>\n",
       "    <tr>\n",
       "      <th>0</th>\n",
       "      <td>0</td>\n",
       "      <td>2013-01-01</td>\n",
       "      <td>1</td>\n",
       "      <td>AUTOMOTIVE</td>\n",
       "      <td>0.000</td>\n",
       "      <td>0</td>\n",
       "    </tr>\n",
       "    <tr>\n",
       "      <th>1</th>\n",
       "      <td>1</td>\n",
       "      <td>2013-01-01</td>\n",
       "      <td>1</td>\n",
       "      <td>BABY CARE</td>\n",
       "      <td>0.000</td>\n",
       "      <td>0</td>\n",
       "    </tr>\n",
       "    <tr>\n",
       "      <th>2</th>\n",
       "      <td>2</td>\n",
       "      <td>2013-01-01</td>\n",
       "      <td>1</td>\n",
       "      <td>BEAUTY</td>\n",
       "      <td>0.000</td>\n",
       "      <td>0</td>\n",
       "    </tr>\n",
       "    <tr>\n",
       "      <th>3</th>\n",
       "      <td>3</td>\n",
       "      <td>2013-01-01</td>\n",
       "      <td>1</td>\n",
       "      <td>BEVERAGES</td>\n",
       "      <td>0.000</td>\n",
       "      <td>0</td>\n",
       "    </tr>\n",
       "    <tr>\n",
       "      <th>4</th>\n",
       "      <td>4</td>\n",
       "      <td>2013-01-01</td>\n",
       "      <td>1</td>\n",
       "      <td>BOOKS</td>\n",
       "      <td>0.000</td>\n",
       "      <td>0</td>\n",
       "    </tr>\n",
       "    <tr>\n",
       "      <th>...</th>\n",
       "      <td>...</td>\n",
       "      <td>...</td>\n",
       "      <td>...</td>\n",
       "      <td>...</td>\n",
       "      <td>...</td>\n",
       "      <td>...</td>\n",
       "    </tr>\n",
       "    <tr>\n",
       "      <th>3000883</th>\n",
       "      <td>3000883</td>\n",
       "      <td>2017-08-15</td>\n",
       "      <td>9</td>\n",
       "      <td>POULTRY</td>\n",
       "      <td>438.133</td>\n",
       "      <td>0</td>\n",
       "    </tr>\n",
       "    <tr>\n",
       "      <th>3000884</th>\n",
       "      <td>3000884</td>\n",
       "      <td>2017-08-15</td>\n",
       "      <td>9</td>\n",
       "      <td>PREPARED FOODS</td>\n",
       "      <td>154.553</td>\n",
       "      <td>1</td>\n",
       "    </tr>\n",
       "    <tr>\n",
       "      <th>3000885</th>\n",
       "      <td>3000885</td>\n",
       "      <td>2017-08-15</td>\n",
       "      <td>9</td>\n",
       "      <td>PRODUCE</td>\n",
       "      <td>2419.729</td>\n",
       "      <td>148</td>\n",
       "    </tr>\n",
       "    <tr>\n",
       "      <th>3000886</th>\n",
       "      <td>3000886</td>\n",
       "      <td>2017-08-15</td>\n",
       "      <td>9</td>\n",
       "      <td>SCHOOL AND OFFICE SUPPLIES</td>\n",
       "      <td>121.000</td>\n",
       "      <td>8</td>\n",
       "    </tr>\n",
       "    <tr>\n",
       "      <th>3000887</th>\n",
       "      <td>3000887</td>\n",
       "      <td>2017-08-15</td>\n",
       "      <td>9</td>\n",
       "      <td>SEAFOOD</td>\n",
       "      <td>16.000</td>\n",
       "      <td>0</td>\n",
       "    </tr>\n",
       "  </tbody>\n",
       "</table>\n",
       "<p>3000888 rows × 6 columns</p>\n",
       "</div>"
      ],
      "text/plain": [
       "              id        date  store_nbr                      family     sales  \\\n",
       "0              0  2013-01-01          1                  AUTOMOTIVE     0.000   \n",
       "1              1  2013-01-01          1                   BABY CARE     0.000   \n",
       "2              2  2013-01-01          1                      BEAUTY     0.000   \n",
       "3              3  2013-01-01          1                   BEVERAGES     0.000   \n",
       "4              4  2013-01-01          1                       BOOKS     0.000   \n",
       "...          ...         ...        ...                         ...       ...   \n",
       "3000883  3000883  2017-08-15          9                     POULTRY   438.133   \n",
       "3000884  3000884  2017-08-15          9              PREPARED FOODS   154.553   \n",
       "3000885  3000885  2017-08-15          9                     PRODUCE  2419.729   \n",
       "3000886  3000886  2017-08-15          9  SCHOOL AND OFFICE SUPPLIES   121.000   \n",
       "3000887  3000887  2017-08-15          9                     SEAFOOD    16.000   \n",
       "\n",
       "         onpromotion  \n",
       "0                  0  \n",
       "1                  0  \n",
       "2                  0  \n",
       "3                  0  \n",
       "4                  0  \n",
       "...              ...  \n",
       "3000883            0  \n",
       "3000884            1  \n",
       "3000885          148  \n",
       "3000886            8  \n",
       "3000887            0  \n",
       "\n",
       "[3000888 rows x 6 columns]"
      ]
     },
     "execution_count": 26,
     "metadata": {},
     "output_type": "execute_result"
    }
   ],
   "source": [
    "train"
   ]
  },
  {
   "cell_type": "code",
   "execution_count": 27,
   "id": "40d53fc1",
   "metadata": {},
   "outputs": [
    {
     "name": "stdout",
     "output_type": "stream",
     "text": [
      "=========================\n",
      "Informações Básicas da Base de Dados\n",
      "=========================\n",
      "Número de tipos de produtos      : 33\n",
      "Número de lojas            : 54\n",
      "Número de produto           : 3000888\n",
      "Número de combinações Loja + Família: 1782\n",
      "Número de séries temporais (targets)        : 1782\n",
      "\n",
      "Número de datas únicas no treino: 1684\n",
      "Período do treino             : 1688 dias - de  2013-01-01 até 2017-08-15\n"
     ]
    }
   ],
   "source": [
    "train['date'] = pd.to_datetime(train['date'])\n",
    "holidays_events['date'] = pd.to_datetime(holidays_events['date'])\n",
    " \n",
    "train_start = train.date.min().date()\n",
    "train_end = train.date.max().date()\n",
    "\n",
    "print(\"=\"*25)\n",
    "print(\"Informações Básicas da Base de Dados\")\n",
    "print(\"=\"*25)\n",
    "\n",
    "print(f\"Número de tipos de produtos      : {train.family.nunique()}\")\n",
    "print(f\"Número de lojas            : {train.store_nbr.nunique()}\")\n",
    "print(f\"Número de produto           : {train.id.nunique()}\")\n",
    "print(f\"Número de combinações Loja + Família: {train.groupby([\"store_nbr\", \"family\"]).ngroups}\")\n",
    "print(f\"Número de séries temporais (targets)        : {train.groupby([\"store_nbr\", \"family\"]).ngroups}\\n\")\n",
    "\n",
    "print(f\"Número de datas únicas no treino: {train.date.nunique()}\")\n",
    "print(f\"Período do treino             : {(train_end - train_start).days + 1} dias - de  {train.date.min().date()} até {train.date.max().date()}\")\n"
   ]
  },
  {
   "cell_type": "code",
   "execution_count": 28,
   "id": "a2f7effc",
   "metadata": {},
   "outputs": [
    {
     "name": "stdout",
     "output_type": "stream",
     "text": [
      "Total de linhas antes filtro: 3000888\n",
      "Custo total: 1,073,644,952.20\n",
      "Promoções total: 7,810,622.00\n"
     ]
    }
   ],
   "source": [
    "print(f\"Total de linhas antes filtro: {len(train)}\")\n",
    "print(f\"Custo total: {train['sales'].sum():,.2f}\")\n",
    "print(f\"Promoções total: {train['onpromotion'].sum():,.2f}\")"
   ]
  },
  {
   "cell_type": "code",
   "execution_count": 29,
   "id": "23599be0",
   "metadata": {},
   "outputs": [
    {
     "name": "stdout",
     "output_type": "stream",
     "text": [
      "\n",
      "Informações do DataFrame:\n",
      "<class 'pandas.core.frame.DataFrame'>\n",
      "RangeIndex: 3000888 entries, 0 to 3000887\n",
      "Data columns (total 6 columns):\n",
      " #   Column       Dtype         \n",
      "---  ------       -----         \n",
      " 0   id           int64         \n",
      " 1   date         datetime64[ns]\n",
      " 2   store_nbr    int64         \n",
      " 3   family       object        \n",
      " 4   sales        float64       \n",
      " 5   onpromotion  int64         \n",
      "dtypes: datetime64[ns](1), float64(1), int64(3), object(1)\n",
      "memory usage: 137.4+ MB\n",
      "None\n",
      "\n",
      "Contagem de valores nulos por coluna:\n",
      "id             0\n",
      "date           0\n",
      "store_nbr      0\n",
      "family         0\n",
      "sales          0\n",
      "onpromotion    0\n",
      "dtype: int64\n"
     ]
    }
   ],
   "source": [
    "print(\"\\nInformações do DataFrame:\")\n",
    "print(train.info())\n",
    "print(\"\\nContagem de valores nulos por coluna:\")\n",
    "print(train.isnull().sum())"
   ]
  },
  {
   "cell_type": "code",
   "execution_count": 30,
   "id": "d8ec17a3",
   "metadata": {},
   "outputs": [
    {
     "data": {
      "text/plain": [
       "Index(['id', 'date', 'store_nbr', 'family', 'sales', 'onpromotion'], dtype='object')"
      ]
     },
     "execution_count": 30,
     "metadata": {},
     "output_type": "execute_result"
    }
   ],
   "source": [
    "train.columns"
   ]
  },
  {
   "cell_type": "markdown",
   "id": "2fbefdc3",
   "metadata": {},
   "source": [
    "# Criação do campo de frequência\n",
    "\n",
    "A variável dias_ativos_venda foi criada a partir da contagem do número de dias, a combinação de loja e família de produto apresentou registros de venda dentro de cada mês. Essa métrica representa a frequência com que houve movimentação comercial para aquele item no mês, servindo como indicador complementar ao volume total de vendas (sales)."
   ]
  },
  {
   "cell_type": "code",
   "execution_count": 31,
   "id": "5d7c6f64",
   "metadata": {},
   "outputs": [],
   "source": [
    "# Filtrar a base para considerar apenas linhas com venda real\n",
    "df_com_venda = train[train['sales'] > 0]\n",
    "\n",
    "# Contar a frequência de ocorrência de cada combinação loja_family por data\n",
    "df_frequencia = (df_com_venda.groupby(['date', 'store_nbr', 'family']).size().reset_index(name='frequencia'))\n"
   ]
  },
  {
   "cell_type": "code",
   "execution_count": 32,
   "id": "c9d1c33d",
   "metadata": {},
   "outputs": [],
   "source": [
    "# Extrair ano e mês da data (se ainda não estiver)\n",
    "df_frequencia['ano'] = pd.to_datetime(df_frequencia['date']).dt.year\n",
    "df_frequencia['mes'] = pd.to_datetime(df_frequencia['date']).dt.month\n",
    "\n",
    "# Agregar frequencia por loja/family/mês\n",
    "df_frequencia_mensal = df_frequencia.groupby(['store_nbr', 'family', 'ano', 'mes'])['frequencia'].sum().reset_index()\n"
   ]
  },
  {
   "cell_type": "code",
   "execution_count": 33,
   "id": "6801baad",
   "metadata": {},
   "outputs": [],
   "source": [
    "# Agrupar o train mensalmente por loja e família\n",
    "df = train.groupby([ train['date'].dt.to_period('M'),'store_nbr', 'family',]).agg({'sales': 'sum','onpromotion': 'sum'}).reset_index()\n",
    "# Criar coluna de ano e mês\n",
    "df['ano'] = df['date'].dt.year\n",
    "df['mes'] = df['date'].dt.month\n"
   ]
  },
  {
   "cell_type": "code",
   "execution_count": 34,
   "id": "70f907ca",
   "metadata": {},
   "outputs": [],
   "source": [
    "# Unir na sua base final (df_modelo) para adicionar a nova coluna\n",
    "df = df.merge(df_frequencia_mensal, on=['store_nbr', 'family', 'ano', 'mes'], how='left')\n",
    "\n",
    "# Preencher com zero onde não teve frequencia\n",
    "df['dias_ativos_venda'] = df['frequencia'].fillna(0)"
   ]
  },
  {
   "cell_type": "markdown",
   "id": "ceb0bc74",
   "metadata": {},
   "source": [
    "# Quantidade de feriados (qtd_feriados) no mês, conforme a localidade da loja\n",
    "\n",
    "A variável qtd_feriados foi criada com o objetivo de quantificar, para cada loja e mês, o número de feriados que podem ter impactado as vendas."
   ]
  },
  {
   "cell_type": "code",
   "execution_count": 35,
   "id": "7632539a",
   "metadata": {},
   "outputs": [
    {
     "name": "stdout",
     "output_type": "stream",
     "text": [
      "       date                                        description\n",
      "0   2012-03                                 Fundacion de Manta\n",
      "1   2012-04  Provincializacion de Cotopaxi, Fundacion de Cu...\n",
      "2   2012-05                             Cantonizacion del Puyo\n",
      "3   2012-06  Cantonizacion de Guaranda, Provincializacion d...\n",
      "4   2012-07  Fundacion de Santo Domingo, Cantonizacion de E...\n",
      "..      ...                                                ...\n",
      "64  2017-08  Fundacion de Esmeraldas, Primer Grito de Indep...\n",
      "65  2017-09                                Fundacion de Ibarra\n",
      "66  2017-10  Cantonizacion de Quevedo, Independencia de Gua...\n",
      "67  2017-11  Dia de Difuntos, Independencia de Cuenca, Prov...\n",
      "68  2017-12  Fundacion de Quito-1, Fundacion de Quito, Fund...\n",
      "\n",
      "[69 rows x 2 columns]\n"
     ]
    }
   ],
   "source": [
    "# Criar uma coluna com nome e tipo dos feriados agrupados por mês\n",
    "feriados_por_mes_detalhado = holidays_events.groupby(holidays_events['date'].dt.to_period('M')).agg({\n",
    "    'description': lambda x: ', '.join(x.unique())\n",
    "}).reset_index()\n",
    "\n",
    "print(feriados_por_mes_detalhado)\n"
   ]
  },
  {
   "cell_type": "code",
   "execution_count": 36,
   "id": "af2a4117",
   "metadata": {},
   "outputs": [
    {
     "name": "stdout",
     "output_type": "stream",
     "text": [
      "   store_nbr  mes_ano  qtd_feriados\n",
      "0          1  2012-08             1\n",
      "1          1  2012-10             2\n",
      "2          1  2012-11             2\n",
      "3          1  2012-12            11\n",
      "4          1  2013-01             3\n"
     ]
    }
   ],
   "source": [
    "# Primeiro, criamos uma cópia da tabela de feriados\n",
    "holidays = holidays_events.copy()\n",
    "\n",
    "# Expandir o dataset de feriados para cada loja, dependendo da regra de localidade\n",
    "def map_holiday_to_stores(holiday_row, stores_df):\n",
    "    if holiday_row['locale'] == 'National':\n",
    "        # Se for feriado nacional, todas as lojas participam\n",
    "        return stores_df['store_nbr'].tolist()\n",
    "    elif holiday_row['locale'] == 'Regional':\n",
    "        # Se for regional, só lojas daquele estado\n",
    "        return stores_df.loc[stores_df['state'] == holiday_row['locale_name'], 'store_nbr'].tolist()\n",
    "    elif holiday_row['locale'] == 'Local':\n",
    "        # Se for local, só lojas daquela cidade\n",
    "        return stores_df.loc[stores_df['city'] == holiday_row['locale_name'], 'store_nbr'].tolist()\n",
    "    else:\n",
    "        # Caso tenha algum tipo não esperado, retorna vazio\n",
    "        return []\n",
    "\n",
    "# Criar uma lista de linhas expandidas (cada linha por loja afetada)\n",
    "expanded_rows = []\n",
    "\n",
    "for idx, row in holidays.iterrows():\n",
    "    affected_stores = map_holiday_to_stores(row, stores)\n",
    "    for store in affected_stores:\n",
    "        expanded_rows.append({'date': row['date'],'store_nbr': store,'description': row['description'],'type': row['type'],'locale': row['locale'],\n",
    "                              'locale_name': row['locale_name']})\n",
    "\n",
    "# Criar um novo DataFrame com os feriados já mapeados por loja\n",
    "holidays_per_store = pd.DataFrame(expanded_rows)\n",
    "\n",
    "# Criar uma coluna de ano e mês para facilitar o agrupamento\n",
    "holidays_per_store['mes_ano'] = holidays_per_store['date'].dt.to_period('M')\n",
    "\n",
    "# Agora, contar quantos feriados por loja em cada mês\n",
    "qtd_feriados_por_loja_mes = holidays_per_store.groupby(['store_nbr', 'mes_ano']).size().reset_index(name='qtd_feriados')\n",
    "\n",
    "# Se quiser, pode visualizar:\n",
    "print(qtd_feriados_por_loja_mes.head())\n"
   ]
  },
  {
   "cell_type": "code",
   "execution_count": 37,
   "id": "dfaf413a",
   "metadata": {},
   "outputs": [],
   "source": [
    "# Juntar com o DataFrame mensal\n",
    "df = df.merge(\n",
    "    qtd_feriados_por_loja_mes,\n",
    "    left_on=['store_nbr', 'date'],  # ou ['store_nbr', 'mes_ano'], dependendo de como estiver sua base\n",
    "    right_on=['store_nbr', 'mes_ano'],\n",
    "    how='left'\n",
    ")\n",
    "\n",
    "# Preencher os meses sem feriado com zero\n",
    "df['qtd_feriados'] = df['qtd_feriados'].fillna(0)\n"
   ]
  },
  {
   "cell_type": "code",
   "execution_count": 38,
   "id": "493e14fc",
   "metadata": {},
   "outputs": [
    {
     "name": "stdout",
     "output_type": "stream",
     "text": [
      "\n",
      "Informações do DataFrame:\n",
      "<class 'pandas.core.frame.DataFrame'>\n",
      "RangeIndex: 99792 entries, 0 to 99791\n",
      "Data columns (total 11 columns):\n",
      " #   Column             Non-Null Count  Dtype    \n",
      "---  ------             --------------  -----    \n",
      " 0   date               99792 non-null  period[M]\n",
      " 1   store_nbr          99792 non-null  int64    \n",
      " 2   family             99792 non-null  object   \n",
      " 3   sales              99792 non-null  float64  \n",
      " 4   onpromotion        99792 non-null  int64    \n",
      " 5   ano                99792 non-null  int64    \n",
      " 6   mes                99792 non-null  int64    \n",
      " 7   frequencia         76133 non-null  float64  \n",
      " 8   dias_ativos_venda  99792 non-null  float64  \n",
      " 9   mes_ano            74118 non-null  period[M]\n",
      " 10  qtd_feriados       99792 non-null  float64  \n",
      "dtypes: float64(4), int64(4), object(1), period[M](2)\n",
      "memory usage: 8.4+ MB\n",
      "None\n",
      "\n",
      "Estatísticas descritivas:\n",
      "          store_nbr          sales   onpromotion           ano           mes  \\\n",
      "count  99792.000000   99792.000000  99792.000000  99792.000000  99792.000000   \n",
      "mean      27.500000   10758.827884     78.269020   2014.857143      6.214286   \n",
      "std       15.585862   31388.925081    261.753659      1.355269      3.384405   \n",
      "min        1.000000       0.000000      0.000000   2013.000000      1.000000   \n",
      "25%       14.000000       5.000000      0.000000   2014.000000      3.000000   \n",
      "50%       27.500000     370.000000      0.000000   2015.000000      6.000000   \n",
      "75%       41.000000    6147.000000     28.000000   2016.000000      9.000000   \n",
      "max       54.000000  473316.000000  20762.000000   2017.000000     12.000000   \n",
      "\n",
      "         frequencia  dias_ativos_venda  qtd_feriados  \n",
      "count  76133.000000       99792.000000  99792.000000  \n",
      "mean      27.081003          20.660554      2.832672  \n",
      "std        6.725334          12.928963      3.886101  \n",
      "min        1.000000           0.000000      0.000000  \n",
      "25%       28.000000           4.000000      0.000000  \n",
      "50%       30.000000          29.000000      2.000000  \n",
      "75%       31.000000          30.000000      4.000000  \n",
      "max       31.000000          31.000000     22.000000  \n"
     ]
    }
   ],
   "source": [
    "print(\"\\nInformações do DataFrame:\")\n",
    "print(df.info())\n",
    "\n",
    "print(\"\\nEstatísticas descritivas:\")\n",
    "print(df.describe())"
   ]
  },
  {
   "cell_type": "code",
   "execution_count": 39,
   "id": "e53248a0",
   "metadata": {},
   "outputs": [],
   "source": [
    "df = df.drop(columns=['mes_ano', 'frequencia'])\n"
   ]
  },
  {
   "cell_type": "code",
   "execution_count": 21,
   "id": "c9fbde3d",
   "metadata": {},
   "outputs": [
    {
     "name": "stdout",
     "output_type": "stream",
     "text": [
      "\n",
      "Contagem de valores nulos por coluna:\n",
      "date                     0\n",
      "store_nbr                0\n",
      "family                   0\n",
      "sales                    0\n",
      "onpromotion              0\n",
      "ano                      0\n",
      "mes                      0\n",
      "frequencia           23659\n",
      "dias_ativos_venda        0\n",
      "qtd_feriados             0\n",
      "dtype: int64\n"
     ]
    }
   ],
   "source": [
    "print(\"\\nContagem de valores nulos por coluna:\")\n",
    "print(df.isnull().sum())"
   ]
  },
  {
   "cell_type": "markdown",
   "id": "5c369f5a",
   "metadata": {},
   "source": [
    "# Tratamento de Valores Negativos e Zeros\n",
    "Para garantir a consistência das séries temporais por loja e produto, valores negativos foram removidos por representarem inconsistências ou registros inválidos. Já os valores iguais a zero foram substituídos por 0.1 com o objetivo de evitar erros em transformações matemáticas (como logaritmos), manter a presença de todas as combinações de loja e produto em todos os períodos e preservar a continuidade da série, essencial para a captação de padrões sazonais e temporais pelo modelo."
   ]
  },
  {
   "cell_type": "code",
   "execution_count": 42,
   "id": "f4f492bb",
   "metadata": {},
   "outputs": [],
   "source": [
    "\n",
    "df['sales'] = np.maximum(df['sales'], 0)  # zera valores negativos\n",
    "df['sales'] = df['sales'].replace(0, 0.01)\n"
   ]
  },
  {
   "cell_type": "code",
   "execution_count": 45,
   "id": "0e2fc88b",
   "metadata": {},
   "outputs": [
    {
     "data": {
      "text/html": [
       "<div>\n",
       "<style scoped>\n",
       "    .dataframe tbody tr th:only-of-type {\n",
       "        vertical-align: middle;\n",
       "    }\n",
       "\n",
       "    .dataframe tbody tr th {\n",
       "        vertical-align: top;\n",
       "    }\n",
       "\n",
       "    .dataframe thead th {\n",
       "        text-align: right;\n",
       "    }\n",
       "</style>\n",
       "<table border=\"1\" class=\"dataframe\">\n",
       "  <thead>\n",
       "    <tr style=\"text-align: right;\">\n",
       "      <th></th>\n",
       "      <th>date</th>\n",
       "      <th>store_nbr</th>\n",
       "      <th>family</th>\n",
       "      <th>sales</th>\n",
       "      <th>onpromotion</th>\n",
       "      <th>ano</th>\n",
       "      <th>mes</th>\n",
       "      <th>dias_ativos_venda</th>\n",
       "      <th>qtd_feriados</th>\n",
       "    </tr>\n",
       "  </thead>\n",
       "  <tbody>\n",
       "    <tr>\n",
       "      <th>0</th>\n",
       "      <td>2013-01</td>\n",
       "      <td>1</td>\n",
       "      <td>AUTOMOTIVE</td>\n",
       "      <td>68.000000</td>\n",
       "      <td>0</td>\n",
       "      <td>2013</td>\n",
       "      <td>1</td>\n",
       "      <td>26.0</td>\n",
       "      <td>3.0</td>\n",
       "    </tr>\n",
       "    <tr>\n",
       "      <th>1</th>\n",
       "      <td>2013-01</td>\n",
       "      <td>1</td>\n",
       "      <td>BABY CARE</td>\n",
       "      <td>0.010000</td>\n",
       "      <td>0</td>\n",
       "      <td>2013</td>\n",
       "      <td>1</td>\n",
       "      <td>0.0</td>\n",
       "      <td>3.0</td>\n",
       "    </tr>\n",
       "    <tr>\n",
       "      <th>2</th>\n",
       "      <td>2013-01</td>\n",
       "      <td>1</td>\n",
       "      <td>BEAUTY</td>\n",
       "      <td>45.000000</td>\n",
       "      <td>0</td>\n",
       "      <td>2013</td>\n",
       "      <td>1</td>\n",
       "      <td>20.0</td>\n",
       "      <td>3.0</td>\n",
       "    </tr>\n",
       "    <tr>\n",
       "      <th>3</th>\n",
       "      <td>2013-01</td>\n",
       "      <td>1</td>\n",
       "      <td>BEVERAGES</td>\n",
       "      <td>28777.000000</td>\n",
       "      <td>0</td>\n",
       "      <td>2013</td>\n",
       "      <td>1</td>\n",
       "      <td>30.0</td>\n",
       "      <td>3.0</td>\n",
       "    </tr>\n",
       "    <tr>\n",
       "      <th>4</th>\n",
       "      <td>2013-01</td>\n",
       "      <td>1</td>\n",
       "      <td>BOOKS</td>\n",
       "      <td>0.010000</td>\n",
       "      <td>0</td>\n",
       "      <td>2013</td>\n",
       "      <td>1</td>\n",
       "      <td>0.0</td>\n",
       "      <td>3.0</td>\n",
       "    </tr>\n",
       "    <tr>\n",
       "      <th>...</th>\n",
       "      <td>...</td>\n",
       "      <td>...</td>\n",
       "      <td>...</td>\n",
       "      <td>...</td>\n",
       "      <td>...</td>\n",
       "      <td>...</td>\n",
       "      <td>...</td>\n",
       "      <td>...</td>\n",
       "      <td>...</td>\n",
       "    </tr>\n",
       "    <tr>\n",
       "      <th>99787</th>\n",
       "      <td>2017-08</td>\n",
       "      <td>54</td>\n",
       "      <td>POULTRY</td>\n",
       "      <td>991.986996</td>\n",
       "      <td>17</td>\n",
       "      <td>2017</td>\n",
       "      <td>8</td>\n",
       "      <td>15.0</td>\n",
       "      <td>2.0</td>\n",
       "    </tr>\n",
       "    <tr>\n",
       "      <th>99788</th>\n",
       "      <td>2017-08</td>\n",
       "      <td>54</td>\n",
       "      <td>PREPARED FOODS</td>\n",
       "      <td>1340.000000</td>\n",
       "      <td>0</td>\n",
       "      <td>2017</td>\n",
       "      <td>8</td>\n",
       "      <td>15.0</td>\n",
       "      <td>2.0</td>\n",
       "    </tr>\n",
       "    <tr>\n",
       "      <th>99789</th>\n",
       "      <td>2017-08</td>\n",
       "      <td>54</td>\n",
       "      <td>PRODUCE</td>\n",
       "      <td>10351.598000</td>\n",
       "      <td>263</td>\n",
       "      <td>2017</td>\n",
       "      <td>8</td>\n",
       "      <td>15.0</td>\n",
       "      <td>2.0</td>\n",
       "    </tr>\n",
       "    <tr>\n",
       "      <th>99790</th>\n",
       "      <td>2017-08</td>\n",
       "      <td>54</td>\n",
       "      <td>SCHOOL AND OFFICE SUPPLIES</td>\n",
       "      <td>0.010000</td>\n",
       "      <td>0</td>\n",
       "      <td>2017</td>\n",
       "      <td>8</td>\n",
       "      <td>0.0</td>\n",
       "      <td>2.0</td>\n",
       "    </tr>\n",
       "    <tr>\n",
       "      <th>99791</th>\n",
       "      <td>2017-08</td>\n",
       "      <td>54</td>\n",
       "      <td>SEAFOOD</td>\n",
       "      <td>38.000000</td>\n",
       "      <td>2</td>\n",
       "      <td>2017</td>\n",
       "      <td>8</td>\n",
       "      <td>10.0</td>\n",
       "      <td>2.0</td>\n",
       "    </tr>\n",
       "  </tbody>\n",
       "</table>\n",
       "<p>99792 rows × 9 columns</p>\n",
       "</div>"
      ],
      "text/plain": [
       "          date  store_nbr                      family         sales  \\\n",
       "0      2013-01          1                  AUTOMOTIVE     68.000000   \n",
       "1      2013-01          1                   BABY CARE      0.010000   \n",
       "2      2013-01          1                      BEAUTY     45.000000   \n",
       "3      2013-01          1                   BEVERAGES  28777.000000   \n",
       "4      2013-01          1                       BOOKS      0.010000   \n",
       "...        ...        ...                         ...           ...   \n",
       "99787  2017-08         54                     POULTRY    991.986996   \n",
       "99788  2017-08         54              PREPARED FOODS   1340.000000   \n",
       "99789  2017-08         54                     PRODUCE  10351.598000   \n",
       "99790  2017-08         54  SCHOOL AND OFFICE SUPPLIES      0.010000   \n",
       "99791  2017-08         54                     SEAFOOD     38.000000   \n",
       "\n",
       "       onpromotion   ano  mes  dias_ativos_venda  qtd_feriados  \n",
       "0                0  2013    1               26.0           3.0  \n",
       "1                0  2013    1                0.0           3.0  \n",
       "2                0  2013    1               20.0           3.0  \n",
       "3                0  2013    1               30.0           3.0  \n",
       "4                0  2013    1                0.0           3.0  \n",
       "...            ...   ...  ...                ...           ...  \n",
       "99787           17  2017    8               15.0           2.0  \n",
       "99788            0  2017    8               15.0           2.0  \n",
       "99789          263  2017    8               15.0           2.0  \n",
       "99790            0  2017    8                0.0           2.0  \n",
       "99791            2  2017    8               10.0           2.0  \n",
       "\n",
       "[99792 rows x 9 columns]"
      ]
     },
     "execution_count": 45,
     "metadata": {},
     "output_type": "execute_result"
    }
   ],
   "source": [
    "df"
   ]
  },
  {
   "cell_type": "code",
   "execution_count": 48,
   "id": "8082db6f",
   "metadata": {},
   "outputs": [
    {
     "name": "stdout",
     "output_type": "stream",
     "text": [
      "Total de linhas antes filtro: 99792\n",
      "vendas total: 1,073,645,188.79\n",
      "Promoções total: 7,810,622.00\n"
     ]
    }
   ],
   "source": [
    "print(f\"Total de linhas antes filtro: {len(df)}\")\n",
    "print(f\"vendas total: {df['sales'].sum():,.2f}\")\n",
    "print(f\"Promoções total: {df['onpromotion'].sum():,.2f}\")"
   ]
  },
  {
   "cell_type": "code",
   "execution_count": 50,
   "id": "c25c91ce",
   "metadata": {},
   "outputs": [
    {
     "data": {
      "image/png": "[encoded data removed]",
      "text/plain": [
       "<Figure size 1000x500 with 1 Axes>"
      ]
     },
     "metadata": {},
     "output_type": "display_data"
    }
   ],
   "source": [
    "#ANÁLISE TEMPORAL - Evolução do Custo ao longo dos meses\n",
    "df_grouped_mes = df.groupby('date')['sales'].mean().reset_index()\n",
    "# Converter Period[M] para datetime (Timestamp)\n",
    "df_grouped_mes['date'] = df_grouped_mes['date'].dt.to_timestamp()\n",
    "# Plot\n",
    "plt.figure(figsize=(10, 5))\n",
    "sns.lineplot(data=df_grouped_mes, x='date', y='sales')\n",
    "plt.title('Evolução do total de vendas ao Longo dos Meses')\n",
    "plt.xticks(rotation=45)\n",
    "plt.show()"
   ]
  },
  {
   "cell_type": "code",
   "execution_count": 25,
   "id": "eaf88cdc",
   "metadata": {},
   "outputs": [],
   "source": [
    "df.to_csv('1.dados_tratado.csv', index=False)"
   ]
  }
 ],
 "metadata": {
  "kernelspec": {
   "display_name": "base",
   "language": "python",
   "name": "python3"
  },
  "language_info": {
   "codemirror_mode": {
    "name": "ipython",
    "version": 3
   },
   "file_extension": ".py",
   "mimetype": "text/x-python",
   "name": "python",
   "nbconvert_exporter": "python",
   "pygments_lexer": "ipython3",
   "version": "3.12.7"
  }
 },
 "nbformat": 4,
 "nbformat_minor": 5
}
